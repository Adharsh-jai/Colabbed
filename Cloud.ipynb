{
 "cells": [
  {
   "cell_type": "code",
   "execution_count": null,
   "id": "9311d51b",
   "metadata": {},
   "outputs": [],
   "source": [
    "for i in range (1,10):\n",
    "    print(i)\n",
    "    print(\"This is a test\")\n",
    "    if i == 5:\n",
    "        print(\"Reached halfway!\")"
   ]
  }
 ],
 "metadata": {
  "language_info": {
   "name": "python"
  }
 },
 "nbformat": 4,
 "nbformat_minor": 5
}
